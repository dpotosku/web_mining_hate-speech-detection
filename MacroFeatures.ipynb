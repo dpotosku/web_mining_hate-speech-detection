{
 "cells": [
  {
   "cell_type": "code",
   "execution_count": 124,
   "id": "5c722f67",
   "metadata": {},
   "outputs": [],
   "source": [
    "#$ pip install better_profanity\n",
    "# Download the VADER lexicon\n",
    "#nltk.download('vader_lexicon')\n",
    "\n",
    "import pandas as pd\n",
    "from sklearn.compose import ColumnTransformer\n",
    "from sklearn.feature_extraction.text import CountVectorizer\n",
    "from better_profanity import profanity\n",
    "import nltk\n",
    "from nltk.sentiment import SentimentIntensityAnalyzer\n",
    "\n",
    "\n",
    "data = pd.read_csv(\"d.csv\")\n",
    "data1 = pd.read_csv(\"d1.csv\")\n",
    "data2 = pd.read_csv(\"file.csv\")\n",
    "data3 = pd.read_csv(\"train.csv\")"
   ]
  },
  {
   "cell_type": "code",
   "execution_count": 91,
   "id": "3b9f0558",
   "metadata": {},
   "outputs": [],
   "source": [
    "#Count words for each row in DataFrame\n",
    "def CountsOfWords(data, name_column_comment, position):\n",
    "\n",
    "    # Create a ColumnTransformer with CountVectorizer\n",
    "    column_transformer = ColumnTransformer([\n",
    "        ('word_count', CountVectorizer(analyzer='word', tokenizer=lambda x: x.split(), token_pattern=None), name_column_comment)\n",
    "    ])\n",
    "\n",
    "    # Apply the ColumnTransformer to the dataframe\n",
    "    word_counts = column_transformer.fit_transform(data)\n",
    "\n",
    "    # Create a new DataFrame with words count matrix\n",
    "    dense_matrix = word_counts.toarray()\n",
    "    df_new = pd.DataFrame(dense_matrix)\n",
    "    #df_new = pd.DataFrame(word_counts)\n",
    "    \n",
    "    #Create a list where each element is the list of words count for each row in initial DataFrame\n",
    "    list_values =[]\n",
    "    for i in df_new.index:\n",
    "        list_values.append([])\n",
    "        for j in range(len(df_new.columns)):\n",
    "            list_values[i].append(df_new.iloc[i,j])\n",
    "\n",
    "    #Add these lists to initial DataFrame\n",
    "    data.insert(position, 'word_counts', list_values)\n",
    "\n",
    "    return data"
   ]
  },
  {
   "cell_type": "code",
   "execution_count": 101,
   "id": "5325e379",
   "metadata": {},
   "outputs": [],
   "source": [
    "#Check if a string in DataFrame contains any swear words. \n",
    "#Function .contains_profanity() return True if any words in the given string has a word existing in the wordlist(835 words).\n",
    "#LEAVE PUNCTUATION\n",
    "def ContainsProfanityWords(data, name_column_comment):\n",
    "    data['contains_profanity'] = data[name_column_comment].apply(lambda x: profanity.contains_profanity(x))\n",
    "    return data\n"
   ]
  },
  {
   "cell_type": "code",
   "execution_count": 116,
   "id": "7176c9ec",
   "metadata": {},
   "outputs": [],
   "source": [
    "# Calculate the overall sentiment score of each row. The range [-1;1] where -1 represents highly negative sentiment, \n",
    "# 1 represents highly positive sentiment, and 0 represents neutral sentiment.\n",
    "def SentimentScoreOfRow(data, name_column_comment):\n",
    "    data['sentiment_score'] = data[name_column_comment].apply(lambda x: SentimentIntensityAnalyzer().polarity_scores(x)['compound'])\n",
    "    return data\n"
   ]
  }
 ],
 "metadata": {
  "kernelspec": {
   "display_name": "Python 3 (ipykernel)",
   "language": "python",
   "name": "python3"
  },
  "language_info": {
   "codemirror_mode": {
    "name": "ipython",
    "version": 3
   },
   "file_extension": ".py",
   "mimetype": "text/x-python",
   "name": "python",
   "nbconvert_exporter": "python",
   "pygments_lexer": "ipython3",
   "version": "3.9.7"
  }
 },
 "nbformat": 4,
 "nbformat_minor": 5
}
